{
 "cells": [
  {
   "cell_type": "code",
   "execution_count": 1,
   "id": "68ba1dfb",
   "metadata": {},
   "outputs": [
    {
     "name": "stdout",
     "output_type": "stream",
     "text": [
      "Requirement already satisfied: matplotlib in /Users/farhanachowdhury/opt/anaconda3/lib/python3.9/site-packages (3.5.2)\n",
      "Requirement already satisfied: cycler>=0.10 in /Users/farhanachowdhury/opt/anaconda3/lib/python3.9/site-packages (from matplotlib) (0.11.0)\n",
      "Requirement already satisfied: packaging>=20.0 in /Users/farhanachowdhury/opt/anaconda3/lib/python3.9/site-packages (from matplotlib) (21.3)\n",
      "Requirement already satisfied: pillow>=6.2.0 in /Users/farhanachowdhury/opt/anaconda3/lib/python3.9/site-packages (from matplotlib) (9.2.0)\n",
      "Requirement already satisfied: fonttools>=4.22.0 in /Users/farhanachowdhury/opt/anaconda3/lib/python3.9/site-packages (from matplotlib) (4.25.0)\n",
      "Requirement already satisfied: kiwisolver>=1.0.1 in /Users/farhanachowdhury/opt/anaconda3/lib/python3.9/site-packages (from matplotlib) (1.4.2)\n",
      "Requirement already satisfied: python-dateutil>=2.7 in /Users/farhanachowdhury/opt/anaconda3/lib/python3.9/site-packages (from matplotlib) (2.8.2)\n",
      "Requirement already satisfied: numpy>=1.17 in /Users/farhanachowdhury/opt/anaconda3/lib/python3.9/site-packages (from matplotlib) (1.21.5)\n",
      "Requirement already satisfied: pyparsing>=2.2.1 in /Users/farhanachowdhury/opt/anaconda3/lib/python3.9/site-packages (from matplotlib) (3.0.9)\n",
      "Requirement already satisfied: six>=1.5 in /Users/farhanachowdhury/opt/anaconda3/lib/python3.9/site-packages (from python-dateutil>=2.7->matplotlib) (1.16.0)\n",
      "Requirement already satisfied: imbalanced-learn in /Users/farhanachowdhury/opt/anaconda3/lib/python3.9/site-packages (0.10.1)\n",
      "Requirement already satisfied: scipy>=1.3.2 in /Users/farhanachowdhury/opt/anaconda3/lib/python3.9/site-packages (from imbalanced-learn) (1.9.1)\n",
      "Requirement already satisfied: numpy>=1.17.3 in /Users/farhanachowdhury/opt/anaconda3/lib/python3.9/site-packages (from imbalanced-learn) (1.21.5)\n",
      "Requirement already satisfied: threadpoolctl>=2.0.0 in /Users/farhanachowdhury/opt/anaconda3/lib/python3.9/site-packages (from imbalanced-learn) (2.2.0)\n",
      "Requirement already satisfied: scikit-learn>=1.0.2 in /Users/farhanachowdhury/opt/anaconda3/lib/python3.9/site-packages (from imbalanced-learn) (1.0.2)\n",
      "Requirement already satisfied: joblib>=1.1.1 in /Users/farhanachowdhury/opt/anaconda3/lib/python3.9/site-packages (from imbalanced-learn) (1.2.0)\n"
     ]
    }
   ],
   "source": [
    "# Data Processing\n",
    "import pandas as pd\n",
    "import numpy as np\n",
    "import re\n",
    "from numpy import mean, std\n",
    "\n",
    "# Data visualization\n",
    "!pip install matplotlib\n",
    "import matplotlib.pyplot as plt\n",
    "import seaborn as sns\n",
    "import plotly.express as px\n",
    "\n",
    "# Creating the modeling dataset\n",
    "from sklearn.datasets import make_classification\n",
    "\n",
    "# Feature selection\n",
    "from sklearn.decomposition import PCA\n",
    "from sklearn.feature_selection import SelectKBest, chi2, mutual_info_classif\n",
    "\n",
    "# Model and performance\n",
    "from sklearn.model_selection import (train_test_split, \n",
    "                                     GridSearchCV, \n",
    "                                     RandomizedSearchCV,\n",
    "                                     cross_val_score, \n",
    "                                     KFold, \n",
    "                                     RepeatedKFold)\n",
    "from sklearn.ensemble import RandomForestClassifier\n",
    "from sklearn import metrics\n",
    "from sklearn.metrics import (confusion_matrix,\n",
    "                             accuracy_score,\n",
    "                             ConfusionMatrixDisplay,\n",
    "                             matthews_corrcoef)\n",
    "from sklearn.metrics import classification_report\n",
    "from datetime import datetime\n",
    "from sklearn.svm import SVC\n",
    "from sklearn.linear_model import LogisticRegression\n",
    "\n",
    "# Over sampling and under sampling\n",
    "from imblearn.over_sampling import RandomOverSampler, SMOTE\n",
    "from imblearn.under_sampling import RandomUnderSampler, NearMiss\n",
    "from collections import Counter\n",
    "\n",
    "# Treating data imbalance\n",
    "!pip install -U imbalanced-learn\n",
    "\n",
    "# checking memory space usage\n",
    "import tracemalloc\n",
    "\n",
    "# normality check\n",
    "import math\n",
    "from scipy.stats import shapiro #shapiro-wilk test\n",
    "\n",
    "# variance check\n",
    "import scipy.stats as stats\n",
    "from scipy.stats import f_oneway\n",
    "\n",
    "import warnings\n",
    "warnings.filterwarnings(\"ignore\")"
   ]
  },
  {
   "cell_type": "markdown",
   "id": "8e19f880",
   "metadata": {},
   "source": [
    "## Loading and prepraing dataset"
   ]
  },
  {
   "cell_type": "code",
   "execution_count": 2,
   "id": "fd456333",
   "metadata": {},
   "outputs": [
    {
     "name": "stdout",
     "output_type": "stream",
     "text": [
      "The number of records in the training set is 31622\n",
      "The number of records in the test set is 13553\n"
     ]
    }
   ],
   "source": [
    "# Loading dataset\n",
    "df1 = pd.read_csv('adult_data.csv', header = None, na_values =' ?') # Passing ' ?' as na_values\n",
    "df2 = pd.read_csv('adult_test.csv', header = None, na_values =' ?') # Passing ' ?' as na_values\n",
    "df = pd.concat([df1, df2], ignore_index = True)\n",
    "column_names = ['age', 'workclass', 'fnlwgt', 'education', 'education-num', 'marital-status', \n",
    "                'occupation', 'relationship','race', 'gender', 'capital-gain', 'capital-loss', 'hours-per-week',\n",
    "                'country', 'income']\n",
    "df.columns = column_names\n",
    "\n",
    "# Changing the target variable class from categorical to numerical\n",
    "df_mod = df.copy()\n",
    "df_mod['income'] = df_mod['income'].str.replace('<=50K.', '<=50K',regex=False)\n",
    "df_mod['income'] = df_mod['income'].str.replace('>50K.', '>50K', regex=False)\n",
    "income_map={' <=50K':0,' >50K':1}\n",
    "df_mod['income']=df_mod['income'].map(income_map).astype(int)\n",
    "df_mod.income.value_counts()\n",
    "\n",
    "# Aggregating class levels of 'Education' category\n",
    "df_mod['education'] = df_mod['education'].str.replace('11th','High-school', regex = True)\n",
    "df_mod['education'] = df_mod['education'].str.replace('9th','High-school', regex = True)\n",
    "df_mod['education'] = df_mod['education'].str.replace('7th-8th','Junior-High', regex = True)\n",
    "df_mod['education'] = df_mod['education'].str.replace('5th-6th', 'Primary', regex = True)\n",
    "df_mod['education'] = df_mod['education'].str.replace('10th','High-school', regex = True)\n",
    "df_mod['education'] = df_mod['education'].str.replace('1st-4th','Primary', regex = True)\n",
    "df_mod['education'] = df_mod['education'].str.replace('Preschool','Pre-school', regex = True)\n",
    "df_mod['education'] = df_mod['education'].str.replace('12th','High-school', regex = True)\n",
    "df_mod['education'] = df_mod['education'].str.replace('Bachelors','Bachelors', regex = True)\n",
    "df_mod['education'] = df_mod['education'].str.replace('HS-grad','HS-grad', regex = True)\n",
    "df_mod['education'] = df_mod['education'].replace(['Masters', 'Prof-school'],'Masters', regex = True)\n",
    "df_mod['education'] = df_mod['education'].replace(['Some-college','Assoc-acdm', 'Assoc-voc'],'College', regex = True)\n",
    "df_mod['education'] = df_mod['education'].str.replace('Doctorate','Doctorate', regex = True)\n",
    "df_mod['education'].unique()\n",
    "\n",
    "# Dropping Duplicates\n",
    "df_mod = df_mod.drop_duplicates()\n",
    "\n",
    "# Removing missing values\n",
    "x = df_mod.copy()\n",
    "df_m1 = x.dropna()\n",
    "\n",
    "# Data Encoding\n",
    "df_m1_num = df_m1.drop(['workclass', 'education', 'marital-status', 'occupation', 'relationship', 'race', 'gender', 'country'], axis=1)\n",
    "df_encoded1 = pd.get_dummies(df_m1[['workclass', 'education', 'marital-status', 'occupation', 'relationship', 'race', 'gender', 'country']],)\n",
    "df_encoded1 = pd.concat([df_encoded1, df_m1_num], axis=1)\n",
    "df_encoded1\n",
    "\n",
    "# Train-test split for df_encoded1 dataset\n",
    "X = df_encoded1.drop('income', axis=1) # all independent variables execpt the target 'income'\n",
    "y = df_encoded1['income'] # Target variable\n",
    "X_train1, X_test1, y_train1, y_test1 = train_test_split(X, y, test_size=0.3)\n",
    "print(\"The number of records in the training set is\", X_train1.shape[0])\n",
    "print(\"The number of records in the test set is\", X_test1.shape[0])"
   ]
  },
  {
   "cell_type": "markdown",
   "id": "264d1605",
   "metadata": {},
   "source": [
    "## Logistic Regression: Baseline model"
   ]
  },
  {
   "cell_type": "code",
   "execution_count": 4,
   "id": "5fd8b44d",
   "metadata": {},
   "outputs": [
    {
     "name": "stdout",
     "output_type": "stream",
     "text": [
      "Train accuracy 0.7930238441591297\n",
      "Test accuracy 0.787722275510957\n",
      "              precision    recall  f1-score   support\n",
      "\n",
      "           0       0.80      0.96      0.87     10131\n",
      "           1       0.72      0.26      0.39      3422\n",
      "\n",
      "    accuracy                           0.79     13553\n",
      "   macro avg       0.76      0.61      0.63     13553\n",
      "weighted avg       0.78      0.79      0.75     13553\n",
      "\n"
     ]
    },
    {
     "data": {
      "image/png": "[encoded data removed]",
      "text/plain": [
       "<Figure size 640x480 with 2 Axes>"
      ]
     },
     "metadata": {},
     "output_type": "display_data"
    },
    {
     "name": "stdout",
     "output_type": "stream",
     "text": [
      "MCC score 0.34188841394936065\n"
     ]
    }
   ],
   "source": [
    "# Logistic regression on df_encoded1 data\n",
    "\n",
    "# datatset\n",
    "df = df_encoded1.copy()\n",
    "\n",
    "# Train-test split (input required in X and y)\n",
    "X = df.drop('income', axis=1) # all independent variables execpt the target 'income'\n",
    "y = df['income'] # Target variable\n",
    "X_train, X_test, y_train, y_test = train_test_split(X, y, test_size=0.3)\n",
    "\n",
    "# model building (input required in cf)\n",
    "cf = LogisticRegression()\n",
    "\n",
    "model = cf.fit(X_train, y_train)\n",
    "y_pred = model.predict(X_test)\n",
    "y_train_pred = model.predict(X_train)\n",
    "\n",
    "# Check the model performance\n",
    "print('Train accuracy', accuracy_score(y_train, y_train_pred))\n",
    "print('Test accuracy', accuracy_score(y_test, y_pred))\n",
    "print(classification_report(y_test, y_pred))\n",
    "ConfusionMatrixDisplay.from_predictions(y_test, y_pred, values_format = '') # values_format to suppress scientific notation\n",
    "plt.show()\n",
    "\n",
    "# MCC score\n",
    "print ('MCC score', matthews_corrcoef(y_test, y_pred))"
   ]
  },
  {
   "cell_type": "markdown",
   "id": "ce4dfb70",
   "metadata": {},
   "source": [
    "## Logistic regression after class imbalance treatment"
   ]
  },
  {
   "cell_type": "markdown",
   "id": "7ac78f0e",
   "metadata": {},
   "source": [
    "### Random Oversampling"
   ]
  },
  {
   "cell_type": "code",
   "execution_count": 5,
   "id": "85b1fd6f",
   "metadata": {},
   "outputs": [
    {
     "name": "stdout",
     "output_type": "stream",
     "text": [
      "Train accuracy 0.6147105906142051\n",
      "Test accuracy 0.6539511547258909\n",
      "              precision    recall  f1-score   support\n",
      "\n",
      "           0       0.82      0.69      0.75     10235\n",
      "           1       0.36      0.53      0.43      3318\n",
      "\n",
      "    accuracy                           0.65     13553\n",
      "   macro avg       0.59      0.61      0.59     13553\n",
      "weighted avg       0.71      0.65      0.67     13553\n",
      "\n"
     ]
    },
    {
     "data": {
      "image/png": "[encoded data removed]",
      "text/plain": [
       "<Figure size 640x480 with 2 Axes>"
      ]
     },
     "metadata": {},
     "output_type": "display_data"
    },
    {
     "name": "stdout",
     "output_type": "stream",
     "text": [
      "MCC score 0.2001044383639137\n"
     ]
    }
   ],
   "source": [
    "# datatset\n",
    "df = df_encoded1.copy()\n",
    "\n",
    "# Train-test split (input required in X and y)\n",
    "X = df.drop('income', axis=1) # all independent variables execpt the target 'income'\n",
    "y = df['income'] # Target variable\n",
    "X_train, X_test, y_train, y_test = train_test_split(X, y, test_size=0.3)\n",
    "\n",
    "# Technique: Random Oversampling\n",
    "class_tech = RandomOverSampler()\n",
    "X_train, y_train = class_tech.fit_resample(X_train, y_train)\n",
    "\n",
    "# model building (input required in cf)\n",
    "cf = LogisticRegression()\n",
    "\n",
    "model = cf.fit(X_train, y_train)\n",
    "y_pred = model.predict(X_test)\n",
    "y_train_pred = model.predict(X_train)\n",
    "\n",
    "# Check the model performance\n",
    "print('Train accuracy', accuracy_score(y_train, y_train_pred))\n",
    "print('Test accuracy', accuracy_score(y_test, y_pred))\n",
    "print(classification_report(y_test, y_pred))\n",
    "ConfusionMatrixDisplay.from_predictions(y_test, y_pred, values_format = '') # values_format to suppress scientific notation\n",
    "plt.show()\n",
    "\n",
    "# MCC score\n",
    "print ('MCC score', matthews_corrcoef(y_test, y_pred))"
   ]
  },
  {
   "cell_type": "markdown",
   "id": "5055d958",
   "metadata": {},
   "source": [
    "### SMOTE oversampling"
   ]
  },
  {
   "cell_type": "code",
   "execution_count": 6,
   "id": "6169d431",
   "metadata": {},
   "outputs": [
    {
     "name": "stdout",
     "output_type": "stream",
     "text": [
      "Train accuracy 0.6117086081586355\n",
      "Test accuracy 0.6592636316682653\n",
      "              precision    recall  f1-score   support\n",
      "\n",
      "           0       0.82      0.71      0.76     10170\n",
      "           1       0.37      0.52      0.43      3383\n",
      "\n",
      "    accuracy                           0.66     13553\n",
      "   macro avg       0.59      0.61      0.59     13553\n",
      "weighted avg       0.70      0.66      0.68     13553\n",
      "\n"
     ]
    },
    {
     "data": {
      "image/png": "[encoded data removed]",
      "text/plain": [
       "<Figure size 640x480 with 2 Axes>"
      ]
     },
     "metadata": {},
     "output_type": "display_data"
    },
    {
     "name": "stdout",
     "output_type": "stream",
     "text": [
      "MCC score 0.20377495349903604\n"
     ]
    }
   ],
   "source": [
    "# datatset\n",
    "df = df_encoded1.copy()\n",
    "\n",
    "# Train-test split (input required in X and y)\n",
    "X = df.drop('income', axis=1) # all independent variables execpt the target 'income'\n",
    "y = df['income'] # Target variable\n",
    "X_train, X_test, y_train, y_test = train_test_split(X, y, test_size=0.3)\n",
    "\n",
    "# Technique: Random Oversampling\n",
    "class_tech = SMOTE()\n",
    "X_train, y_train = class_tech.fit_resample(X_train, y_train)\n",
    "\n",
    "# model building (input required in cf)\n",
    "cf = LogisticRegression()\n",
    "\n",
    "model = cf.fit(X_train, y_train)\n",
    "y_pred = model.predict(X_test)\n",
    "y_train_pred = model.predict(X_train)\n",
    "\n",
    "# Check the model performance\n",
    "print('Train accuracy', accuracy_score(y_train, y_train_pred))\n",
    "print('Test accuracy', accuracy_score(y_test, y_pred))\n",
    "print(classification_report(y_test, y_pred))\n",
    "ConfusionMatrixDisplay.from_predictions(y_test, y_pred, values_format = '') # values_format to suppress scientific notation\n",
    "plt.show()\n",
    "\n",
    "# MCC score\n",
    "print ('MCC score', matthews_corrcoef(y_test, y_pred))"
   ]
  },
  {
   "cell_type": "markdown",
   "id": "62fc6d2b",
   "metadata": {},
   "source": [
    "### Random Undersampling"
   ]
  },
  {
   "cell_type": "code",
   "execution_count": 7,
   "id": "5c9af0ba",
   "metadata": {},
   "outputs": [
    {
     "name": "stdout",
     "output_type": "stream",
     "text": [
      "Train accuracy 0.6205669251302911\n",
      "Test accuracy 0.7771711060281856\n",
      "              precision    recall  f1-score   support\n",
      "\n",
      "           0       0.81      0.93      0.86     10218\n",
      "           1       0.59      0.31      0.41      3335\n",
      "\n",
      "    accuracy                           0.78     13553\n",
      "   macro avg       0.70      0.62      0.64     13553\n",
      "weighted avg       0.75      0.78      0.75     13553\n",
      "\n"
     ]
    },
    {
     "data": {
      "image/png": "[encoded data removed]",
      "text/plain": [
       "<Figure size 640x480 with 2 Axes>"
      ]
     },
     "metadata": {},
     "output_type": "display_data"
    },
    {
     "name": "stdout",
     "output_type": "stream",
     "text": [
      "MCC score 0.30850953645728396\n"
     ]
    }
   ],
   "source": [
    "# datatset\n",
    "df = df_encoded1.copy()\n",
    "\n",
    "# Train-test split (input required in X and y)\n",
    "X = df.drop('income', axis=1) # all independent variables execpt the target 'income'\n",
    "y = df['income'] # Target variable\n",
    "X_train, X_test, y_train, y_test = train_test_split(X, y, test_size=0.3)\n",
    "\n",
    "# Technique: Random Oversampling\n",
    "class_tech = RandomUnderSampler()\n",
    "X_train, y_train = class_tech.fit_resample(X_train, y_train)\n",
    "\n",
    "# model building (input required in cf)\n",
    "cf = LogisticRegression()\n",
    "\n",
    "model = cf.fit(X_train, y_train)\n",
    "y_pred = model.predict(X_test)\n",
    "y_train_pred = model.predict(X_train)\n",
    "\n",
    "# Check the model performance\n",
    "print('Train accuracy', accuracy_score(y_train, y_train_pred))\n",
    "print('Test accuracy', accuracy_score(y_test, y_pred))\n",
    "print(classification_report(y_test, y_pred))\n",
    "ConfusionMatrixDisplay.from_predictions(y_test, y_pred, values_format = '') # values_format to suppress scientific notation\n",
    "plt.show()\n",
    "\n",
    "# MCC score\n",
    "print ('MCC score', matthews_corrcoef(y_test, y_pred))"
   ]
  },
  {
   "cell_type": "markdown",
   "id": "b2638e0f",
   "metadata": {},
   "source": [
    "### NearMiss undersampling"
   ]
  },
  {
   "cell_type": "code",
   "execution_count": 8,
   "id": "aaf80114",
   "metadata": {},
   "outputs": [
    {
     "name": "stdout",
     "output_type": "stream",
     "text": [
      "Train accuracy 0.5853799665680853\n",
      "Test accuracy 0.6223714306795544\n",
      "              precision    recall  f1-score   support\n",
      "\n",
      "           0       0.82      0.64      0.72     10128\n",
      "           1       0.35      0.58      0.44      3425\n",
      "\n",
      "    accuracy                           0.62     13553\n",
      "   macro avg       0.59      0.61      0.58     13553\n",
      "weighted avg       0.70      0.62      0.65     13553\n",
      "\n"
     ]
    },
    {
     "data": {
      "image/png": "[encoded data removed]",
      "text/plain": [
       "<Figure size 640x480 with 2 Axes>"
      ]
     },
     "metadata": {},
     "output_type": "display_data"
    },
    {
     "name": "stdout",
     "output_type": "stream",
     "text": [
      "MCC score 0.19357536546563733\n"
     ]
    }
   ],
   "source": [
    "# datatset\n",
    "df = df_encoded1.copy()\n",
    "\n",
    "# Train-test split (input required in X and y)\n",
    "X = df.drop('income', axis=1) # all independent variables execpt the target 'income'\n",
    "y = df['income'] # Target variable\n",
    "X_train, X_test, y_train, y_test = train_test_split(X, y, test_size=0.3)\n",
    "\n",
    "# Technique: Random Oversampling\n",
    "class_tech = NearMiss(version=3)\n",
    "X_train, y_train = class_tech.fit_resample(X_train, y_train)\n",
    "\n",
    "# model building (input required in cf)\n",
    "cf = LogisticRegression()\n",
    "\n",
    "model = cf.fit(X_train, y_train)\n",
    "y_pred = model.predict(X_test)\n",
    "y_train_pred = model.predict(X_train)\n",
    "\n",
    "# Check the model performance\n",
    "print('Train accuracy', accuracy_score(y_train, y_train_pred))\n",
    "print('Test accuracy', accuracy_score(y_test, y_pred))\n",
    "print(classification_report(y_test, y_pred))\n",
    "ConfusionMatrixDisplay.from_predictions(y_test, y_pred, values_format = '') # values_format to suppress scientific notation\n",
    "plt.show()\n",
    "\n",
    "# MCC score\n",
    "print ('MCC score', matthews_corrcoef(y_test, y_pred))"
   ]
  },
  {
   "cell_type": "markdown",
   "id": "c273eaec",
   "metadata": {},
   "source": [
    "## Cross-validation"
   ]
  },
  {
   "cell_type": "markdown",
   "id": "fa56ddb4",
   "metadata": {},
   "source": [
    "### Memory Usage tracker setup"
   ]
  },
  {
   "cell_type": "code",
   "execution_count": 9,
   "id": "6661717e",
   "metadata": {},
   "outputs": [],
   "source": [
    "# memory space usage tracking\n",
    "# import tracemalloc \n",
    "def app():\n",
    "    lt = []\n",
    "    for i in range(0, 100000):\n",
    "        lt.append(i)"
   ]
  },
  {
   "cell_type": "markdown",
   "id": "c2c81969",
   "metadata": {},
   "source": [
    "### Timer setup"
   ]
  },
  {
   "cell_type": "code",
   "execution_count": 10,
   "id": "78cab498",
   "metadata": {},
   "outputs": [],
   "source": [
    "# Creating a timer to check time-lapse\n",
    "# from datetime import datetime\n",
    "def timer(start_time=None):\n",
    "    if not start_time:\n",
    "        start_time = datetime.now()\n",
    "        return start_time\n",
    "    elif start_time:\n",
    "        thour, temp_sec = divmod((datetime.now() - start_time).total_seconds(), 3600)\n",
    "        tmin, tsec = divmod(temp_sec, 60)\n",
    "        print('\\n Time taken: %i hours %i minutes and %s seconds.' % (thour, tmin, round(tsec, 2)))"
   ]
  },
  {
   "cell_type": "markdown",
   "id": "d2f8d188",
   "metadata": {},
   "source": [
    "### K-Fold Cross Validation"
   ]
  },
  {
   "cell_type": "code",
   "execution_count": 13,
   "id": "577098ac",
   "metadata": {},
   "outputs": [
    {
     "name": "stdout",
     "output_type": "stream",
     "text": [
      "\n",
      " Time taken: 0 hours 0 minutes and 2.58 seconds.\n",
      "memory usage: Current, Peak (157884871, 185310271)\n",
      "[array([0.79323427, 0.78469807, 0.79664769, 0.79380139, 0.78747628,\n",
      "       0.7887413 , 0.78842505, 0.7830487 , 0.79696395, 0.79032258])]\n",
      "0.7903359287684151\n"
     ]
    }
   ],
   "source": [
    "# from sklearn.model_selection import cross_val_score\n",
    "# K-Fold Cross validation on base dataset\n",
    "\n",
    "cf = LogisticRegression()\n",
    "\n",
    "# datatset\n",
    "df = df_encoded1.copy()\n",
    "\n",
    "# Train-test split (input required in X and y)\n",
    "X = df.drop('income', axis=1) # all independent variables execpt the target 'income'\n",
    "y = df['income'] # Target variable\n",
    "X_train, X_test, y_train, y_test = train_test_split(X, y, test_size=0.3)\n",
    "\n",
    "# starting timer\n",
    "start_time = timer(None)\n",
    "\n",
    "# starting the memory monitoring\n",
    "tracemalloc.start()\n",
    "\n",
    "# function call\n",
    "app()\n",
    "\n",
    "# running cross-val\n",
    "kfold_score = [cross_val_score (cf, X_train, y_train, scoring='accuracy', cv=10)]\n",
    "\n",
    "# time stopper\n",
    "timer(start_time)\n",
    "\n",
    "# displaying the memory (current, peak)\n",
    "print('memory usage: Current, Peak', tracemalloc.get_traced_memory())\n",
    " \n",
    "# stopping the memorylibrary\n",
    "tracemalloc.stop()\n",
    "\n",
    "print(kfold_score)\n",
    "print(np.average(kfold_score))"
   ]
  },
  {
   "cell_type": "markdown",
   "id": "19634fb9",
   "metadata": {},
   "source": [
    "### Repeated K-Fold Cross Validation"
   ]
  },
  {
   "cell_type": "code",
   "execution_count": 15,
   "id": "f77b5cf0",
   "metadata": {},
   "outputs": [
    {
     "name": "stdout",
     "output_type": "stream",
     "text": [
      "\n",
      " Time taken: 0 hours 0 minutes and 13.72 seconds.\n",
      "memory usage: Current, Peak (203038477, 275736817)\n",
      "[0.79892507 0.786595   0.78684377 0.79222011 0.79759646 0.80044276\n",
      " 0.79190386 0.79063884 0.77830487 0.79822897 0.78785963 0.80493203\n",
      " 0.79222011 0.78526249 0.79095509 0.7887413  0.79633144 0.78779254\n",
      " 0.79380139 0.79032258 0.79924123 0.79038887 0.78684377 0.79886148\n",
      " 0.79316888 0.78716003 0.79475016 0.78779254 0.78431373 0.79348514\n",
      " 0.78406576 0.78469807 0.80139152 0.79633144 0.78494624 0.7944339\n",
      " 0.79095509 0.80487034 0.78652751 0.78747628 0.78311729 0.80809358\n",
      " 0.7972802  0.77830487 0.79127135 0.78747628 0.80360531 0.7972802\n",
      " 0.79633144 0.78462998]\n",
      "Accuracy: 0.792 (0.007)\n"
     ]
    }
   ],
   "source": [
    "# Repeated K-Fold on base dataset\n",
    "\n",
    "cv1 = RepeatedKFold(n_splits=10, n_repeats=5)\n",
    "cf = LogisticRegression()\n",
    "\n",
    "# datatset\n",
    "df = df_encoded1.copy()\n",
    "\n",
    "# Train-test split (input required in X and y)\n",
    "X = df.drop('income', axis=1) # all independent variables execpt the target 'income'\n",
    "y = df['income'] # Target variable\n",
    "X_train, X_test, y_train, y_test = train_test_split(X, y, test_size=0.3)\n",
    "\n",
    "# starting timer\n",
    "start_time = timer(None)\n",
    "\n",
    "# starting the memory monitoring\n",
    "tracemalloc.start()\n",
    "\n",
    "# function call\n",
    "app()\n",
    " \n",
    "# running cross-val\n",
    "repeatK_scores = cross_val_score(cf, X_train, y_train, scoring='accuracy', cv=cv1)\n",
    "\n",
    "# time stopper\n",
    "timer(start_time)\n",
    "\n",
    "# displaying the memory (current, peak)\n",
    "print('memory usage: Current, Peak', tracemalloc.get_traced_memory())\n",
    " \n",
    "# stopping the memorylibrary\n",
    "tracemalloc.stop()\n",
    "\n",
    "print (repeatK_scores)\n",
    "print('Accuracy: %.3f (%.3f)' % (mean(repeatK_scores), std(repeatK_scores)))"
   ]
  },
  {
   "cell_type": "markdown",
   "id": "b04503f8",
   "metadata": {},
   "source": [
    "### Checking the distribution of the repeated K-Fold scores"
   ]
  },
  {
   "cell_type": "code",
   "execution_count": 16,
   "id": "bdcf0b2b",
   "metadata": {},
   "outputs": [
    {
     "data": {
      "image/png": "[encoded data removed]",
      "text/plain": [
       "<Figure size 640x480 with 1 Axes>"
      ]
     },
     "metadata": {},
     "output_type": "display_data"
    }
   ],
   "source": [
    "sns.set_style('darkgrid')\n",
    "sns.distplot(repeatK_scores);"
   ]
  },
  {
   "cell_type": "markdown",
   "id": "6646c097",
   "metadata": {},
   "source": [
    "### Normality check through Shapiro-Wilk Test"
   ]
  },
  {
   "cell_type": "code",
   "execution_count": 17,
   "id": "048eb894",
   "metadata": {},
   "outputs": [
    {
     "data": {
      "text/plain": [
       "ShapiroResult(statistic=0.9789714217185974, pvalue=0.5094432234764099)"
      ]
     },
     "execution_count": 17,
     "metadata": {},
     "output_type": "execute_result"
    }
   ],
   "source": [
    "# normality check for the repeatK_scores\n",
    "\n",
    "shapiro(repeatK_scores)"
   ]
  },
  {
   "cell_type": "markdown",
   "id": "a83e45c0",
   "metadata": {},
   "source": [
    "From the output, we can see that p-value is greater than 0.05 which means that we have sufficient evidence to accept the null hypothesis which is the data is normally distributed"
   ]
  },
  {
   "cell_type": "markdown",
   "id": "e0f61f47",
   "metadata": {},
   "source": [
    "## Variance check"
   ]
  },
  {
   "cell_type": "code",
   "execution_count": 18,
   "id": "3c7064df",
   "metadata": {},
   "outputs": [
    {
     "data": {
      "text/html": [
       "<div>\n",
       "<style scoped>\n",
       "    .dataframe tbody tr th:only-of-type {\n",
       "        vertical-align: middle;\n",
       "    }\n",
       "\n",
       "    .dataframe tbody tr th {\n",
       "        vertical-align: top;\n",
       "    }\n",
       "\n",
       "    .dataframe thead th {\n",
       "        text-align: right;\n",
       "    }\n",
       "</style>\n",
       "<table border=\"1\" class=\"dataframe\">\n",
       "  <thead>\n",
       "    <tr style=\"text-align: right;\">\n",
       "      <th></th>\n",
       "      <th>RF</th>\n",
       "      <th>XGB</th>\n",
       "    </tr>\n",
       "  </thead>\n",
       "  <tbody>\n",
       "    <tr>\n",
       "      <th>0</th>\n",
       "      <td>0.853936</td>\n",
       "      <td>0.875435</td>\n",
       "    </tr>\n",
       "    <tr>\n",
       "      <th>1</th>\n",
       "      <td>0.854885</td>\n",
       "      <td>0.872905</td>\n",
       "    </tr>\n",
       "    <tr>\n",
       "      <th>2</th>\n",
       "      <td>0.841240</td>\n",
       "      <td>0.852941</td>\n",
       "    </tr>\n",
       "    <tr>\n",
       "      <th>3</th>\n",
       "      <td>0.853574</td>\n",
       "      <td>0.871284</td>\n",
       "    </tr>\n",
       "    <tr>\n",
       "      <th>4</th>\n",
       "      <td>0.860848</td>\n",
       "      <td>0.866856</td>\n",
       "    </tr>\n",
       "  </tbody>\n",
       "</table>\n",
       "</div>"
      ],
      "text/plain": [
       "         RF       XGB\n",
       "0  0.853936  0.875435\n",
       "1  0.854885  0.872905\n",
       "2  0.841240  0.852941\n",
       "3  0.853574  0.871284\n",
       "4  0.860848  0.866856"
      ]
     },
     "execution_count": 18,
     "metadata": {},
     "output_type": "execute_result"
    }
   ],
   "source": [
    "df = pd.read_csv('Repeated K-Fold Cross Validation Scores.csv')\n",
    "df.head()"
   ]
  },
  {
   "cell_type": "code",
   "execution_count": 19,
   "id": "10d02a73",
   "metadata": {},
   "outputs": [
    {
     "data": {
      "text/plain": [
       "array([0.79892507, 0.786595  , 0.78684377, 0.79222011, 0.79759646,\n",
       "       0.80044276, 0.79190386, 0.79063884, 0.77830487, 0.79822897,\n",
       "       0.78785963, 0.80493203, 0.79222011, 0.78526249, 0.79095509,\n",
       "       0.7887413 , 0.79633144, 0.78779254, 0.79380139, 0.79032258,\n",
       "       0.79924123, 0.79038887, 0.78684377, 0.79886148, 0.79316888,\n",
       "       0.78716003, 0.79475016, 0.78779254, 0.78431373, 0.79348514,\n",
       "       0.78406576, 0.78469807, 0.80139152, 0.79633144, 0.78494624,\n",
       "       0.7944339 , 0.79095509, 0.80487034, 0.78652751, 0.78747628,\n",
       "       0.78311729, 0.80809358, 0.7972802 , 0.77830487, 0.79127135,\n",
       "       0.78747628, 0.80360531, 0.7972802 , 0.79633144, 0.78462998])"
      ]
     },
     "execution_count": 19,
     "metadata": {},
     "output_type": "execute_result"
    }
   ],
   "source": [
    "score = repeatK_scores.T\n",
    "score"
   ]
  },
  {
   "cell_type": "code",
   "execution_count": 20,
   "id": "a1fae8c6",
   "metadata": {},
   "outputs": [
    {
     "data": {
      "text/html": [
       "<div>\n",
       "<style scoped>\n",
       "    .dataframe tbody tr th:only-of-type {\n",
       "        vertical-align: middle;\n",
       "    }\n",
       "\n",
       "    .dataframe tbody tr th {\n",
       "        vertical-align: top;\n",
       "    }\n",
       "\n",
       "    .dataframe thead th {\n",
       "        text-align: right;\n",
       "    }\n",
       "</style>\n",
       "<table border=\"1\" class=\"dataframe\">\n",
       "  <thead>\n",
       "    <tr style=\"text-align: right;\">\n",
       "      <th></th>\n",
       "      <th>RF</th>\n",
       "      <th>XGB</th>\n",
       "      <th>LR</th>\n",
       "    </tr>\n",
       "  </thead>\n",
       "  <tbody>\n",
       "    <tr>\n",
       "      <th>0</th>\n",
       "      <td>0.853936</td>\n",
       "      <td>0.875435</td>\n",
       "      <td>0.798925</td>\n",
       "    </tr>\n",
       "    <tr>\n",
       "      <th>1</th>\n",
       "      <td>0.854885</td>\n",
       "      <td>0.872905</td>\n",
       "      <td>0.786595</td>\n",
       "    </tr>\n",
       "    <tr>\n",
       "      <th>2</th>\n",
       "      <td>0.841240</td>\n",
       "      <td>0.852941</td>\n",
       "      <td>0.786844</td>\n",
       "    </tr>\n",
       "    <tr>\n",
       "      <th>3</th>\n",
       "      <td>0.853574</td>\n",
       "      <td>0.871284</td>\n",
       "      <td>0.792220</td>\n",
       "    </tr>\n",
       "    <tr>\n",
       "      <th>4</th>\n",
       "      <td>0.860848</td>\n",
       "      <td>0.866856</td>\n",
       "      <td>0.797596</td>\n",
       "    </tr>\n",
       "  </tbody>\n",
       "</table>\n",
       "</div>"
      ],
      "text/plain": [
       "         RF       XGB        LR\n",
       "0  0.853936  0.875435  0.798925\n",
       "1  0.854885  0.872905  0.786595\n",
       "2  0.841240  0.852941  0.786844\n",
       "3  0.853574  0.871284  0.792220\n",
       "4  0.860848  0.866856  0.797596"
      ]
     },
     "execution_count": 20,
     "metadata": {},
     "output_type": "execute_result"
    }
   ],
   "source": [
    "df['LR'] = score\n",
    "\n",
    "df.to_csv('Repeated K-Fold Cross Validation Scores.csv', index=False)\n",
    "df.head()"
   ]
  },
  {
   "cell_type": "code",
   "execution_count": 21,
   "id": "b93aceaa",
   "metadata": {},
   "outputs": [
    {
     "name": "stdout",
     "output_type": "stream",
     "text": [
      "2094.6237704060322 9.3312583232739e-109\n"
     ]
    }
   ],
   "source": [
    "# import scipy.stats as stats\n",
    "\n",
    "fvalue, pvalue = stats.f_oneway(df['RF'], df['XGB'], df['LR'])\n",
    "print(fvalue, pvalue)\n",
    "# 1726.7368375233455 9.658683001406724e-71\n",
    "\n",
    "# getting ANOVA table\n"
   ]
  },
  {
   "cell_type": "code",
   "execution_count": 22,
   "id": "321d0efc",
   "metadata": {},
   "outputs": [
    {
     "data": {
      "text/plain": [
       "F_onewayResult(statistic=2094.6237704060322, pvalue=9.3312583232739e-109)"
      ]
     },
     "execution_count": 22,
     "metadata": {},
     "output_type": "execute_result"
    }
   ],
   "source": [
    "# from scipy.stats import f_oneway\n",
    "\n",
    "f_oneway(df['RF'], df['XGB'], df['LR'])"
   ]
  },
  {
   "cell_type": "markdown",
   "id": "988c460b",
   "metadata": {},
   "source": [
    "#### p-value is less than 0.05 hence we would reject the null hypothesis. This implies that we have sufficient proof to say that there is a difference in performance among the 3 models."
   ]
  },
  {
   "cell_type": "code",
   "execution_count": 23,
   "id": "3046edde",
   "metadata": {},
   "outputs": [
    {
     "name": "stdout",
     "output_type": "stream",
     "text": [
      "245.32134803200714 1.982538596022238e-28\n"
     ]
    }
   ],
   "source": [
    "fvalue, pvalue = stats.f_oneway(df['RF'], df['XGB'])\n",
    "print(fvalue, pvalue)"
   ]
  },
  {
   "cell_type": "markdown",
   "id": "9dc2a8f4",
   "metadata": {},
   "source": [
    "p-value is less than 0.05 which means RF and XGB has different performance"
   ]
  },
  {
   "cell_type": "code",
   "execution_count": 24,
   "id": "56a6dee7",
   "metadata": {},
   "outputs": [
    {
     "name": "stdout",
     "output_type": "stream",
     "text": [
      "2075.7696886719423 9.154746793001955e-68\n"
     ]
    }
   ],
   "source": [
    "fvalue, pvalue = stats.f_oneway(df['RF'], df['LR'])\n",
    "print(fvalue, pvalue)"
   ]
  },
  {
   "cell_type": "code",
   "execution_count": 25,
   "id": "e21ec2db",
   "metadata": {},
   "outputs": [
    {
     "name": "stdout",
     "output_type": "stream",
     "text": [
      "3736.468825426666 7.572679838274159e-80\n"
     ]
    }
   ],
   "source": [
    "fvalue, pvalue = stats.f_oneway(df['XGB'], df['LR'])\n",
    "print(fvalue, pvalue)"
   ]
  },
  {
   "cell_type": "code",
   "execution_count": null,
   "id": "ebac1ed7",
   "metadata": {},
   "outputs": [],
   "source": []
  }
 ],
 "metadata": {
  "kernelspec": {
   "display_name": "Python 3 (ipykernel)",
   "language": "python",
   "name": "python3"
  },
  "language_info": {
   "codemirror_mode": {
    "name": "ipython",
    "version": 3
   },
   "file_extension": ".py",
   "mimetype": "text/x-python",
   "name": "python",
   "nbconvert_exporter": "python",
   "pygments_lexer": "ipython3",
   "version": "3.9.13"
  }
 },
 "nbformat": 4,
 "nbformat_minor": 5
}
